{
  "nbformat": 4,
  "nbformat_minor": 0,
  "metadata": {
    "colab": {
      "name": "Regression.ipynb",
      "provenance": [],
      "collapsed_sections": []
    },
    "kernelspec": {
      "name": "python3",
      "display_name": "Python 3"
    },
    "accelerator": "GPU"
  },
  "cells": [
    {
      "cell_type": "markdown",
      "metadata": {
        "id": "WrXUDcB6yMrj"
      },
      "source": [
        "# Regression\n"
      ]
    },
    {
      "cell_type": "code",
      "metadata": {
        "id": "Bgm1n58NyiwN"
      },
      "source": [
        "# importing libraries\n",
        "import matplotlib.pyplot as plt\n",
        "import numpy as np\n",
        "import pandas as pd\n",
        "import tensorflow as tf\n",
        "from tensorflow import keras\n",
        "from tensorflow.keras import layers\n",
        "from tensorflow.keras.layers.experimental import preprocessing"
      ],
      "execution_count": null,
      "outputs": []
    },
    {
      "cell_type": "code",
      "metadata": {
        "id": "UUD8DrzwzrIn"
      },
      "source": [
        "#Dataset\n",
        "url='https://archive.ics.uci.edu/ml/machine-learning-databases/auto-mpg/auto-mpg.data'\n",
        "column_names=['MPG','Cylinders','Displacement','Horsepower','Weight','Acceleration','Model year','Origin']\n",
        "dataset=pd.read_csv(url,names=column_names,na_values='?',comment='\\t',sep=' ',skipinitialspace=True)"
      ],
      "execution_count": null,
      "outputs": []
    },
    {
      "cell_type": "code",
      "metadata": {
        "id": "jBYt8C704VTy",
        "outputId": "e3350adc-7ccb-401d-e8ea-b1c93feb8fdb",
        "colab": {
          "base_uri": "https://localhost:8080/",
          "height": 204
        }
      },
      "source": [
        "dataset.tail()"
      ],
      "execution_count": null,
      "outputs": [
        {
          "output_type": "execute_result",
          "data": {
            "text/html": [
              "<div>\n",
              "<style scoped>\n",
              "    .dataframe tbody tr th:only-of-type {\n",
              "        vertical-align: middle;\n",
              "    }\n",
              "\n",
              "    .dataframe tbody tr th {\n",
              "        vertical-align: top;\n",
              "    }\n",
              "\n",
              "    .dataframe thead th {\n",
              "        text-align: right;\n",
              "    }\n",
              "</style>\n",
              "<table border=\"1\" class=\"dataframe\">\n",
              "  <thead>\n",
              "    <tr style=\"text-align: right;\">\n",
              "      <th></th>\n",
              "      <th>MPG</th>\n",
              "      <th>Cylinders</th>\n",
              "      <th>Displacement</th>\n",
              "      <th>Horsepower</th>\n",
              "      <th>Weight</th>\n",
              "      <th>Acceleration</th>\n",
              "      <th>Model year</th>\n",
              "      <th>Origin</th>\n",
              "    </tr>\n",
              "  </thead>\n",
              "  <tbody>\n",
              "    <tr>\n",
              "      <th>393</th>\n",
              "      <td>27.0</td>\n",
              "      <td>4</td>\n",
              "      <td>140.0</td>\n",
              "      <td>86.0</td>\n",
              "      <td>2790.0</td>\n",
              "      <td>15.6</td>\n",
              "      <td>82</td>\n",
              "      <td>1</td>\n",
              "    </tr>\n",
              "    <tr>\n",
              "      <th>394</th>\n",
              "      <td>44.0</td>\n",
              "      <td>4</td>\n",
              "      <td>97.0</td>\n",
              "      <td>52.0</td>\n",
              "      <td>2130.0</td>\n",
              "      <td>24.6</td>\n",
              "      <td>82</td>\n",
              "      <td>2</td>\n",
              "    </tr>\n",
              "    <tr>\n",
              "      <th>395</th>\n",
              "      <td>32.0</td>\n",
              "      <td>4</td>\n",
              "      <td>135.0</td>\n",
              "      <td>84.0</td>\n",
              "      <td>2295.0</td>\n",
              "      <td>11.6</td>\n",
              "      <td>82</td>\n",
              "      <td>1</td>\n",
              "    </tr>\n",
              "    <tr>\n",
              "      <th>396</th>\n",
              "      <td>28.0</td>\n",
              "      <td>4</td>\n",
              "      <td>120.0</td>\n",
              "      <td>79.0</td>\n",
              "      <td>2625.0</td>\n",
              "      <td>18.6</td>\n",
              "      <td>82</td>\n",
              "      <td>1</td>\n",
              "    </tr>\n",
              "    <tr>\n",
              "      <th>397</th>\n",
              "      <td>31.0</td>\n",
              "      <td>4</td>\n",
              "      <td>119.0</td>\n",
              "      <td>82.0</td>\n",
              "      <td>2720.0</td>\n",
              "      <td>19.4</td>\n",
              "      <td>82</td>\n",
              "      <td>1</td>\n",
              "    </tr>\n",
              "  </tbody>\n",
              "</table>\n",
              "</div>"
            ],
            "text/plain": [
              "      MPG  Cylinders  Displacement  ...  Acceleration  Model year  Origin\n",
              "393  27.0          4         140.0  ...          15.6          82       1\n",
              "394  44.0          4          97.0  ...          24.6          82       2\n",
              "395  32.0          4         135.0  ...          11.6          82       1\n",
              "396  28.0          4         120.0  ...          18.6          82       1\n",
              "397  31.0          4         119.0  ...          19.4          82       1\n",
              "\n",
              "[5 rows x 8 columns]"
            ]
          },
          "metadata": {
            "tags": []
          },
          "execution_count": 3
        }
      ]
    },
    {
      "cell_type": "code",
      "metadata": {
        "id": "O3wRkdbC4zBC"
      },
      "source": [
        "#clean dataset\n",
        "dataset=dataset.dropna() #Excluding missing nos\n",
        "#convert categorical data in one hot data\n",
        "origin=dataset.pop('Origin')\n",
        "dataset['USA']=(origin==1)*1\n",
        "dataset['India']=(origin==2)*1\n",
        "dataset['China']=(origin==3)*1"
      ],
      "execution_count": null,
      "outputs": []
    },
    {
      "cell_type": "code",
      "metadata": {
        "id": "npYyYAoP52iW",
        "outputId": "cb8ce033-4edd-4043-8cb4-e734ba3203db",
        "colab": {
          "base_uri": "https://localhost:8080/",
          "height": 204
        }
      },
      "source": [
        "dataset.tail()"
      ],
      "execution_count": null,
      "outputs": [
        {
          "output_type": "execute_result",
          "data": {
            "text/html": [
              "<div>\n",
              "<style scoped>\n",
              "    .dataframe tbody tr th:only-of-type {\n",
              "        vertical-align: middle;\n",
              "    }\n",
              "\n",
              "    .dataframe tbody tr th {\n",
              "        vertical-align: top;\n",
              "    }\n",
              "\n",
              "    .dataframe thead th {\n",
              "        text-align: right;\n",
              "    }\n",
              "</style>\n",
              "<table border=\"1\" class=\"dataframe\">\n",
              "  <thead>\n",
              "    <tr style=\"text-align: right;\">\n",
              "      <th></th>\n",
              "      <th>MPG</th>\n",
              "      <th>Cylinders</th>\n",
              "      <th>Displacement</th>\n",
              "      <th>Horsepower</th>\n",
              "      <th>Weight</th>\n",
              "      <th>Acceleration</th>\n",
              "      <th>Model year</th>\n",
              "      <th>USA</th>\n",
              "      <th>India</th>\n",
              "      <th>China</th>\n",
              "    </tr>\n",
              "  </thead>\n",
              "  <tbody>\n",
              "    <tr>\n",
              "      <th>393</th>\n",
              "      <td>27.0</td>\n",
              "      <td>4</td>\n",
              "      <td>140.0</td>\n",
              "      <td>86.0</td>\n",
              "      <td>2790.0</td>\n",
              "      <td>15.6</td>\n",
              "      <td>82</td>\n",
              "      <td>1</td>\n",
              "      <td>0</td>\n",
              "      <td>0</td>\n",
              "    </tr>\n",
              "    <tr>\n",
              "      <th>394</th>\n",
              "      <td>44.0</td>\n",
              "      <td>4</td>\n",
              "      <td>97.0</td>\n",
              "      <td>52.0</td>\n",
              "      <td>2130.0</td>\n",
              "      <td>24.6</td>\n",
              "      <td>82</td>\n",
              "      <td>0</td>\n",
              "      <td>1</td>\n",
              "      <td>0</td>\n",
              "    </tr>\n",
              "    <tr>\n",
              "      <th>395</th>\n",
              "      <td>32.0</td>\n",
              "      <td>4</td>\n",
              "      <td>135.0</td>\n",
              "      <td>84.0</td>\n",
              "      <td>2295.0</td>\n",
              "      <td>11.6</td>\n",
              "      <td>82</td>\n",
              "      <td>1</td>\n",
              "      <td>0</td>\n",
              "      <td>0</td>\n",
              "    </tr>\n",
              "    <tr>\n",
              "      <th>396</th>\n",
              "      <td>28.0</td>\n",
              "      <td>4</td>\n",
              "      <td>120.0</td>\n",
              "      <td>79.0</td>\n",
              "      <td>2625.0</td>\n",
              "      <td>18.6</td>\n",
              "      <td>82</td>\n",
              "      <td>1</td>\n",
              "      <td>0</td>\n",
              "      <td>0</td>\n",
              "    </tr>\n",
              "    <tr>\n",
              "      <th>397</th>\n",
              "      <td>31.0</td>\n",
              "      <td>4</td>\n",
              "      <td>119.0</td>\n",
              "      <td>82.0</td>\n",
              "      <td>2720.0</td>\n",
              "      <td>19.4</td>\n",
              "      <td>82</td>\n",
              "      <td>1</td>\n",
              "      <td>0</td>\n",
              "      <td>0</td>\n",
              "    </tr>\n",
              "  </tbody>\n",
              "</table>\n",
              "</div>"
            ],
            "text/plain": [
              "      MPG  Cylinders  Displacement  Horsepower  ...  Model year  USA  India  China\n",
              "393  27.0          4         140.0        86.0  ...          82    1      0      0\n",
              "394  44.0          4          97.0        52.0  ...          82    0      1      0\n",
              "395  32.0          4         135.0        84.0  ...          82    1      0      0\n",
              "396  28.0          4         120.0        79.0  ...          82    1      0      0\n",
              "397  31.0          4         119.0        82.0  ...          82    1      0      0\n",
              "\n",
              "[5 rows x 10 columns]"
            ]
          },
          "metadata": {
            "tags": []
          },
          "execution_count": 13
        }
      ]
    },
    {
      "cell_type": "code",
      "metadata": {
        "id": "jAJmLjUO8Qa9",
        "outputId": "a68e10bb-1d1b-4b49-fb0f-7b6bb73c844a",
        "colab": {
          "base_uri": "https://localhost:8080/",
          "height": 376
        }
      },
      "source": [
        "#Spliting into training and test set\n",
        "train_dataset=dataset.sample(frac=0.8,random_state=0)\n",
        "test_dataset=dataset.drop(train_dataset.index)\n",
        "print(dataset.shape,train_dataset.shape,test_dataset.shape)\n",
        "train_dataset.describe().transpose()"
      ],
      "execution_count": null,
      "outputs": [
        {
          "output_type": "stream",
          "text": [
            "(392, 10) (314, 10) (78, 10)\n"
          ],
          "name": "stdout"
        },
        {
          "output_type": "execute_result",
          "data": {
            "text/html": [
              "<div>\n",
              "<style scoped>\n",
              "    .dataframe tbody tr th:only-of-type {\n",
              "        vertical-align: middle;\n",
              "    }\n",
              "\n",
              "    .dataframe tbody tr th {\n",
              "        vertical-align: top;\n",
              "    }\n",
              "\n",
              "    .dataframe thead th {\n",
              "        text-align: right;\n",
              "    }\n",
              "</style>\n",
              "<table border=\"1\" class=\"dataframe\">\n",
              "  <thead>\n",
              "    <tr style=\"text-align: right;\">\n",
              "      <th></th>\n",
              "      <th>count</th>\n",
              "      <th>mean</th>\n",
              "      <th>std</th>\n",
              "      <th>min</th>\n",
              "      <th>25%</th>\n",
              "      <th>50%</th>\n",
              "      <th>75%</th>\n",
              "      <th>max</th>\n",
              "    </tr>\n",
              "  </thead>\n",
              "  <tbody>\n",
              "    <tr>\n",
              "      <th>MPG</th>\n",
              "      <td>314.0</td>\n",
              "      <td>23.310510</td>\n",
              "      <td>7.728652</td>\n",
              "      <td>10.0</td>\n",
              "      <td>17.00</td>\n",
              "      <td>22.0</td>\n",
              "      <td>28.95</td>\n",
              "      <td>46.6</td>\n",
              "    </tr>\n",
              "    <tr>\n",
              "      <th>Cylinders</th>\n",
              "      <td>314.0</td>\n",
              "      <td>5.477707</td>\n",
              "      <td>1.699788</td>\n",
              "      <td>3.0</td>\n",
              "      <td>4.00</td>\n",
              "      <td>4.0</td>\n",
              "      <td>8.00</td>\n",
              "      <td>8.0</td>\n",
              "    </tr>\n",
              "    <tr>\n",
              "      <th>Displacement</th>\n",
              "      <td>314.0</td>\n",
              "      <td>195.318471</td>\n",
              "      <td>104.331589</td>\n",
              "      <td>68.0</td>\n",
              "      <td>105.50</td>\n",
              "      <td>151.0</td>\n",
              "      <td>265.75</td>\n",
              "      <td>455.0</td>\n",
              "    </tr>\n",
              "    <tr>\n",
              "      <th>Horsepower</th>\n",
              "      <td>314.0</td>\n",
              "      <td>104.869427</td>\n",
              "      <td>38.096214</td>\n",
              "      <td>46.0</td>\n",
              "      <td>76.25</td>\n",
              "      <td>94.5</td>\n",
              "      <td>128.00</td>\n",
              "      <td>225.0</td>\n",
              "    </tr>\n",
              "    <tr>\n",
              "      <th>Weight</th>\n",
              "      <td>314.0</td>\n",
              "      <td>2990.251592</td>\n",
              "      <td>843.898596</td>\n",
              "      <td>1649.0</td>\n",
              "      <td>2256.50</td>\n",
              "      <td>2822.5</td>\n",
              "      <td>3608.00</td>\n",
              "      <td>5140.0</td>\n",
              "    </tr>\n",
              "    <tr>\n",
              "      <th>Acceleration</th>\n",
              "      <td>314.0</td>\n",
              "      <td>15.559236</td>\n",
              "      <td>2.789230</td>\n",
              "      <td>8.0</td>\n",
              "      <td>13.80</td>\n",
              "      <td>15.5</td>\n",
              "      <td>17.20</td>\n",
              "      <td>24.8</td>\n",
              "    </tr>\n",
              "    <tr>\n",
              "      <th>Model year</th>\n",
              "      <td>314.0</td>\n",
              "      <td>75.898089</td>\n",
              "      <td>3.675642</td>\n",
              "      <td>70.0</td>\n",
              "      <td>73.00</td>\n",
              "      <td>76.0</td>\n",
              "      <td>79.00</td>\n",
              "      <td>82.0</td>\n",
              "    </tr>\n",
              "    <tr>\n",
              "      <th>USA</th>\n",
              "      <td>314.0</td>\n",
              "      <td>0.624204</td>\n",
              "      <td>0.485101</td>\n",
              "      <td>0.0</td>\n",
              "      <td>0.00</td>\n",
              "      <td>1.0</td>\n",
              "      <td>1.00</td>\n",
              "      <td>1.0</td>\n",
              "    </tr>\n",
              "    <tr>\n",
              "      <th>India</th>\n",
              "      <td>314.0</td>\n",
              "      <td>0.178344</td>\n",
              "      <td>0.383413</td>\n",
              "      <td>0.0</td>\n",
              "      <td>0.00</td>\n",
              "      <td>0.0</td>\n",
              "      <td>0.00</td>\n",
              "      <td>1.0</td>\n",
              "    </tr>\n",
              "    <tr>\n",
              "      <th>China</th>\n",
              "      <td>314.0</td>\n",
              "      <td>0.197452</td>\n",
              "      <td>0.398712</td>\n",
              "      <td>0.0</td>\n",
              "      <td>0.00</td>\n",
              "      <td>0.0</td>\n",
              "      <td>0.00</td>\n",
              "      <td>1.0</td>\n",
              "    </tr>\n",
              "  </tbody>\n",
              "</table>\n",
              "</div>"
            ],
            "text/plain": [
              "              count         mean         std  ...     50%      75%     max\n",
              "MPG           314.0    23.310510    7.728652  ...    22.0    28.95    46.6\n",
              "Cylinders     314.0     5.477707    1.699788  ...     4.0     8.00     8.0\n",
              "Displacement  314.0   195.318471  104.331589  ...   151.0   265.75   455.0\n",
              "Horsepower    314.0   104.869427   38.096214  ...    94.5   128.00   225.0\n",
              "Weight        314.0  2990.251592  843.898596  ...  2822.5  3608.00  5140.0\n",
              "Acceleration  314.0    15.559236    2.789230  ...    15.5    17.20    24.8\n",
              "Model year    314.0    75.898089    3.675642  ...    76.0    79.00    82.0\n",
              "USA           314.0     0.624204    0.485101  ...     1.0     1.00     1.0\n",
              "India         314.0     0.178344    0.383413  ...     0.0     0.00     1.0\n",
              "China         314.0     0.197452    0.398712  ...     0.0     0.00     1.0\n",
              "\n",
              "[10 rows x 8 columns]"
            ]
          },
          "metadata": {
            "tags": []
          },
          "execution_count": 5
        }
      ]
    },
    {
      "cell_type": "code",
      "metadata": {
        "id": "T-Ot3FAa_xZM"
      },
      "source": [
        "#Spliting the labels\n",
        "train_features=train_dataset.copy()\n",
        "test_features=test_dataset.copy()\n",
        "train_labels=train_features.pop('MPG')\n",
        "test_labels=test_features.pop('MPG')"
      ],
      "execution_count": null,
      "outputs": []
    },
    {
      "cell_type": "code",
      "metadata": {
        "id": "UVW2hiYWK7De"
      },
      "source": [
        "def plot(feature, x=None, y=None):\n",
        "    plt.figure(figsize=(10, 8))\n",
        "    plt.scatter(train_features[feature], train_labels, label='Data')\n",
        "    if x is not None and y is not None:\n",
        "        plt.plot(x, y, color='k', label='Predictions')\n",
        "    plt.xlabel(feature)\n",
        "    plt.ylabel('MPG')\n",
        "    plt.legend()"
      ],
      "execution_count": null,
      "outputs": []
    },
    {
      "cell_type": "code",
      "metadata": {
        "id": "kG_ysKWTAN03",
        "outputId": "657ebae3-da41-4af7-99e0-095234224f19",
        "colab": {
          "base_uri": "https://localhost:8080/",
          "height": 238
        }
      },
      "source": [
        "#Normalizing\n",
        "print(train_dataset.describe().transpose()[['mean','std']])\n",
        "#Normalization layer\n",
        "normalizer=preprocessing.Normalization()\n",
        "#Adapt to the data\n",
        "normalizer.adapt(np.array(train_features))\n",
        "print(normalizer.mean.numpy())\n"
      ],
      "execution_count": null,
      "outputs": [
        {
          "output_type": "stream",
          "text": [
            "                     mean         std\n",
            "MPG             23.310510    7.728652\n",
            "Cylinders        5.477707    1.699788\n",
            "Displacement   195.318471  104.331589\n",
            "Horsepower     104.869427   38.096214\n",
            "Weight        2990.251592  843.898596\n",
            "Acceleration    15.559236    2.789230\n",
            "Model year      75.898089    3.675642\n",
            "USA              0.624204    0.485101\n",
            "India            0.178344    0.383413\n",
            "China            0.197452    0.398712\n",
            "[5.4777069e+00 1.9531847e+02 1.0486943e+02 2.9902517e+03 1.5559236e+01\n",
            " 7.5898087e+01 6.2420380e-01 1.7834395e-01 1.9745223e-01]\n"
          ],
          "name": "stdout"
        }
      ]
    },
    {
      "cell_type": "code",
      "metadata": {
        "id": "LChNDtKd1Z4d",
        "outputId": "3a6fcc72-8f76-4408-bfd2-ed07bcecbcef",
        "colab": {
          "base_uri": "https://localhost:8080/",
          "height": 85
        }
      },
      "source": [
        "#when the layer is called it returns the input data ith each feature independently normalized\n",
        "first=np.array(train_features[:1])\n",
        "print('First example: ',first)\n",
        "print('Normalized',normalizer(first).numpy())"
      ],
      "execution_count": null,
      "outputs": [
        {
          "output_type": "stream",
          "text": [
            "First example:  [[4.000e+00 9.000e+01 7.500e+01 2.125e+03 1.450e+01 7.400e+01 1.000e+00\n",
            "  0.000e+00 0.000e+00]]\n",
            "Normalized [[-0.87073565 -1.0110704  -0.78530395 -1.0269395  -0.3803653  -0.5172201\n",
            "   0.77591294 -0.46589085 -0.49601588]]\n"
          ],
          "name": "stdout"
        }
      ]
    },
    {
      "cell_type": "code",
      "metadata": {
        "id": "EnTKGlCR3i09",
        "outputId": "dc389b88-acaa-4087-d82d-24c4204b49fe",
        "colab": {
          "base_uri": "https://localhost:8080/",
          "height": 34
        }
      },
      "source": [
        "#Regression\n",
        "#Normalize the input horsepower\n",
        "#Apply linear regression\n",
        "feature='Horsepower'\n",
        "single_feature=np.array(train_features[feature])\n",
        "print(single_feature.shape,train_features.shape)"
      ],
      "execution_count": null,
      "outputs": [
        {
          "output_type": "stream",
          "text": [
            "(314,) (314, 9)\n"
          ],
          "name": "stdout"
        }
      ]
    },
    {
      "cell_type": "code",
      "metadata": {
        "id": "4G5aIJYU5vVN"
      },
      "source": [
        "#Normalizing only horsepower\n",
        "single_normalizer=preprocessing.Normalization()\n",
        "#Adapt to the data\n",
        "single_normalizer.adapt(single_feature)"
      ],
      "execution_count": null,
      "outputs": []
    },
    {
      "cell_type": "code",
      "metadata": {
        "id": "vJakrvz86e9w"
      },
      "source": [
        "#Sequential model\n",
        "single_feature_model=keras.models.Sequential([\n",
        "                                             single_normalizer,\n",
        "                                             layers.Dense(units=1)\n",
        "])"
      ],
      "execution_count": null,
      "outputs": []
    },
    {
      "cell_type": "code",
      "metadata": {
        "id": "GT9cq6eOA2c3",
        "outputId": "f36804b8-a38e-40e6-fde5-9761dd17a588",
        "colab": {
          "base_uri": "https://localhost:8080/",
          "height": 221
        }
      },
      "source": [
        "single_feature_model.summary()"
      ],
      "execution_count": null,
      "outputs": [
        {
          "output_type": "stream",
          "text": [
            "Model: \"sequential\"\n",
            "_________________________________________________________________\n",
            "Layer (type)                 Output Shape              Param #   \n",
            "=================================================================\n",
            "normalization_3 (Normalizati (None, 1)                 3         \n",
            "_________________________________________________________________\n",
            "dense (Dense)                (None, 1)                 2         \n",
            "=================================================================\n",
            "Total params: 5\n",
            "Trainable params: 2\n",
            "Non-trainable params: 3\n",
            "_________________________________________________________________\n"
          ],
          "name": "stdout"
        }
      ]
    },
    {
      "cell_type": "code",
      "metadata": {
        "id": "_Ql6mdB7A_Kr"
      },
      "source": [
        "#Loss and optimizer\n",
        "loss=keras.losses.MeanAbsoluteError()\n",
        "optim=keras.optimizers.Adam(learning_rate=0.1)\n",
        "single_feature_model.compile(optimizer=optim,loss=loss)"
      ],
      "execution_count": null,
      "outputs": []
    },
    {
      "cell_type": "code",
      "metadata": {
        "id": "xGIt1BEbC2GF",
        "outputId": "da83a134-9278-49b3-f067-9713531c9610",
        "colab": {
          "base_uri": "https://localhost:8080/",
          "height": 1000
        }
      },
      "source": [
        "history=single_feature_model.fit(\n",
        "    train_features[feature],train_labels,epochs=100,verbose=1,validation_split=0.2\n",
        ")"
      ],
      "execution_count": null,
      "outputs": [
        {
          "output_type": "stream",
          "text": [
            "Epoch 1/100\n",
            "8/8 [==============================] - 0s 17ms/step - loss: 22.8648 - val_loss: 22.9381\n",
            "Epoch 2/100\n",
            "8/8 [==============================] - 0s 3ms/step - loss: 22.0618 - val_loss: 22.1381\n",
            "Epoch 3/100\n",
            "8/8 [==============================] - 0s 3ms/step - loss: 21.2635 - val_loss: 21.3384\n",
            "Epoch 4/100\n",
            "8/8 [==============================] - 0s 4ms/step - loss: 20.4614 - val_loss: 20.5384\n",
            "Epoch 5/100\n",
            "8/8 [==============================] - 0s 4ms/step - loss: 19.6643 - val_loss: 19.7381\n",
            "Epoch 6/100\n",
            "8/8 [==============================] - 0s 3ms/step - loss: 18.8612 - val_loss: 18.9381\n",
            "Epoch 7/100\n",
            "8/8 [==============================] - 0s 3ms/step - loss: 18.0622 - val_loss: 18.1383\n",
            "Epoch 8/100\n",
            "8/8 [==============================] - 0s 3ms/step - loss: 17.2621 - val_loss: 17.3383\n",
            "Epoch 9/100\n",
            "8/8 [==============================] - 0s 3ms/step - loss: 16.4653 - val_loss: 16.5386\n",
            "Epoch 10/100\n",
            "8/8 [==============================] - 0s 3ms/step - loss: 15.6659 - val_loss: 15.7413\n",
            "Epoch 11/100\n",
            "8/8 [==============================] - 0s 3ms/step - loss: 14.8877 - val_loss: 14.9587\n",
            "Epoch 12/100\n",
            "8/8 [==============================] - 0s 3ms/step - loss: 14.1059 - val_loss: 14.1825\n",
            "Epoch 13/100\n",
            "8/8 [==============================] - 0s 3ms/step - loss: 13.3211 - val_loss: 13.3927\n",
            "Epoch 14/100\n",
            "8/8 [==============================] - 0s 3ms/step - loss: 12.5325 - val_loss: 12.6147\n",
            "Epoch 15/100\n",
            "8/8 [==============================] - 0s 3ms/step - loss: 11.7512 - val_loss: 11.8301\n",
            "Epoch 16/100\n",
            "8/8 [==============================] - 0s 3ms/step - loss: 10.9754 - val_loss: 11.0462\n",
            "Epoch 17/100\n",
            "8/8 [==============================] - 0s 3ms/step - loss: 10.1944 - val_loss: 10.2656\n",
            "Epoch 18/100\n",
            "8/8 [==============================] - 0s 4ms/step - loss: 9.4224 - val_loss: 9.4871\n",
            "Epoch 19/100\n",
            "8/8 [==============================] - 0s 3ms/step - loss: 8.6662 - val_loss: 8.7371\n",
            "Epoch 20/100\n",
            "8/8 [==============================] - 0s 4ms/step - loss: 7.9650 - val_loss: 7.9994\n",
            "Epoch 21/100\n",
            "8/8 [==============================] - 0s 3ms/step - loss: 7.2711 - val_loss: 7.2994\n",
            "Epoch 22/100\n",
            "8/8 [==============================] - 0s 3ms/step - loss: 6.6502 - val_loss: 6.6435\n",
            "Epoch 23/100\n",
            "8/8 [==============================] - 0s 3ms/step - loss: 6.0315 - val_loss: 6.0524\n",
            "Epoch 24/100\n",
            "8/8 [==============================] - 0s 3ms/step - loss: 5.5214 - val_loss: 5.6032\n",
            "Epoch 25/100\n",
            "8/8 [==============================] - 0s 3ms/step - loss: 5.0783 - val_loss: 5.2639\n",
            "Epoch 26/100\n",
            "8/8 [==============================] - 0s 3ms/step - loss: 4.7554 - val_loss: 5.0432\n",
            "Epoch 27/100\n",
            "8/8 [==============================] - 0s 3ms/step - loss: 4.5055 - val_loss: 4.8475\n",
            "Epoch 28/100\n",
            "8/8 [==============================] - 0s 3ms/step - loss: 4.3092 - val_loss: 4.6803\n",
            "Epoch 29/100\n",
            "8/8 [==============================] - 0s 3ms/step - loss: 4.1450 - val_loss: 4.5397\n",
            "Epoch 30/100\n",
            "8/8 [==============================] - 0s 3ms/step - loss: 4.0330 - val_loss: 4.4563\n",
            "Epoch 31/100\n",
            "8/8 [==============================] - 0s 4ms/step - loss: 3.9548 - val_loss: 4.4020\n",
            "Epoch 32/100\n",
            "8/8 [==============================] - 0s 3ms/step - loss: 3.9048 - val_loss: 4.3468\n",
            "Epoch 33/100\n",
            "8/8 [==============================] - 0s 3ms/step - loss: 3.8657 - val_loss: 4.2831\n",
            "Epoch 34/100\n",
            "8/8 [==============================] - 0s 3ms/step - loss: 3.8447 - val_loss: 4.2579\n",
            "Epoch 35/100\n",
            "8/8 [==============================] - 0s 3ms/step - loss: 3.8267 - val_loss: 4.2419\n",
            "Epoch 36/100\n",
            "8/8 [==============================] - 0s 3ms/step - loss: 3.8205 - val_loss: 4.2097\n",
            "Epoch 37/100\n",
            "8/8 [==============================] - 0s 3ms/step - loss: 3.8199 - val_loss: 4.2262\n",
            "Epoch 38/100\n",
            "8/8 [==============================] - 0s 3ms/step - loss: 3.8075 - val_loss: 4.2060\n",
            "Epoch 39/100\n",
            "8/8 [==============================] - 0s 3ms/step - loss: 3.8048 - val_loss: 4.2074\n",
            "Epoch 40/100\n",
            "8/8 [==============================] - 0s 3ms/step - loss: 3.8040 - val_loss: 4.1882\n",
            "Epoch 41/100\n",
            "8/8 [==============================] - 0s 3ms/step - loss: 3.8079 - val_loss: 4.1995\n",
            "Epoch 42/100\n",
            "8/8 [==============================] - 0s 3ms/step - loss: 3.8033 - val_loss: 4.1996\n",
            "Epoch 43/100\n",
            "8/8 [==============================] - 0s 3ms/step - loss: 3.8068 - val_loss: 4.1842\n",
            "Epoch 44/100\n",
            "8/8 [==============================] - 0s 3ms/step - loss: 3.8049 - val_loss: 4.1776\n",
            "Epoch 45/100\n",
            "8/8 [==============================] - 0s 3ms/step - loss: 3.8029 - val_loss: 4.1925\n",
            "Epoch 46/100\n",
            "8/8 [==============================] - 0s 3ms/step - loss: 3.8136 - val_loss: 4.2135\n",
            "Epoch 47/100\n",
            "8/8 [==============================] - 0s 3ms/step - loss: 3.8057 - val_loss: 4.1885\n",
            "Epoch 48/100\n",
            "8/8 [==============================] - 0s 3ms/step - loss: 3.8037 - val_loss: 4.1961\n",
            "Epoch 49/100\n",
            "8/8 [==============================] - 0s 3ms/step - loss: 3.8085 - val_loss: 4.1688\n",
            "Epoch 50/100\n",
            "8/8 [==============================] - 0s 3ms/step - loss: 3.8083 - val_loss: 4.1954\n",
            "Epoch 51/100\n",
            "8/8 [==============================] - 0s 4ms/step - loss: 3.8032 - val_loss: 4.1920\n",
            "Epoch 52/100\n",
            "8/8 [==============================] - 0s 3ms/step - loss: 3.8016 - val_loss: 4.1966\n",
            "Epoch 53/100\n",
            "8/8 [==============================] - 0s 3ms/step - loss: 3.8026 - val_loss: 4.1942\n",
            "Epoch 54/100\n",
            "8/8 [==============================] - 0s 3ms/step - loss: 3.8015 - val_loss: 4.1925\n",
            "Epoch 55/100\n",
            "8/8 [==============================] - 0s 3ms/step - loss: 3.8030 - val_loss: 4.1830\n",
            "Epoch 56/100\n",
            "8/8 [==============================] - 0s 4ms/step - loss: 3.8052 - val_loss: 4.1950\n",
            "Epoch 57/100\n",
            "8/8 [==============================] - 0s 3ms/step - loss: 3.8029 - val_loss: 4.1932\n",
            "Epoch 58/100\n",
            "8/8 [==============================] - 0s 3ms/step - loss: 3.8014 - val_loss: 4.1788\n",
            "Epoch 59/100\n",
            "8/8 [==============================] - 0s 3ms/step - loss: 3.8033 - val_loss: 4.1836\n",
            "Epoch 60/100\n",
            "8/8 [==============================] - 0s 3ms/step - loss: 3.8037 - val_loss: 4.1865\n",
            "Epoch 61/100\n",
            "8/8 [==============================] - 0s 3ms/step - loss: 3.8040 - val_loss: 4.1983\n",
            "Epoch 62/100\n",
            "8/8 [==============================] - 0s 3ms/step - loss: 3.8039 - val_loss: 4.1983\n",
            "Epoch 63/100\n",
            "8/8 [==============================] - 0s 4ms/step - loss: 3.8067 - val_loss: 4.1787\n",
            "Epoch 64/100\n",
            "8/8 [==============================] - 0s 3ms/step - loss: 3.8052 - val_loss: 4.1835\n",
            "Epoch 65/100\n",
            "8/8 [==============================] - 0s 3ms/step - loss: 3.8025 - val_loss: 4.1957\n",
            "Epoch 66/100\n",
            "8/8 [==============================] - 0s 3ms/step - loss: 3.8039 - val_loss: 4.2034\n",
            "Epoch 67/100\n",
            "8/8 [==============================] - 0s 3ms/step - loss: 3.8039 - val_loss: 4.1832\n",
            "Epoch 68/100\n",
            "8/8 [==============================] - 0s 3ms/step - loss: 3.8051 - val_loss: 4.1912\n",
            "Epoch 69/100\n",
            "8/8 [==============================] - 0s 3ms/step - loss: 3.8036 - val_loss: 4.1879\n",
            "Epoch 70/100\n",
            "8/8 [==============================] - 0s 3ms/step - loss: 3.8016 - val_loss: 4.1887\n",
            "Epoch 71/100\n",
            "8/8 [==============================] - 0s 3ms/step - loss: 3.8029 - val_loss: 4.1869\n",
            "Epoch 72/100\n",
            "8/8 [==============================] - 0s 3ms/step - loss: 3.8032 - val_loss: 4.1969\n",
            "Epoch 73/100\n",
            "8/8 [==============================] - 0s 3ms/step - loss: 3.8063 - val_loss: 4.1908\n",
            "Epoch 74/100\n",
            "8/8 [==============================] - 0s 3ms/step - loss: 3.8022 - val_loss: 4.1959\n",
            "Epoch 75/100\n",
            "8/8 [==============================] - 0s 3ms/step - loss: 3.8062 - val_loss: 4.2008\n",
            "Epoch 76/100\n",
            "8/8 [==============================] - 0s 3ms/step - loss: 3.8053 - val_loss: 4.1620\n",
            "Epoch 77/100\n",
            "8/8 [==============================] - 0s 3ms/step - loss: 3.8043 - val_loss: 4.1626\n",
            "Epoch 78/100\n",
            "8/8 [==============================] - 0s 3ms/step - loss: 3.8054 - val_loss: 4.1902\n",
            "Epoch 79/100\n",
            "8/8 [==============================] - 0s 3ms/step - loss: 3.8026 - val_loss: 4.1811\n",
            "Epoch 80/100\n",
            "8/8 [==============================] - 0s 3ms/step - loss: 3.8049 - val_loss: 4.1858\n",
            "Epoch 81/100\n",
            "8/8 [==============================] - 0s 3ms/step - loss: 3.8023 - val_loss: 4.2000\n",
            "Epoch 82/100\n",
            "8/8 [==============================] - 0s 3ms/step - loss: 3.8041 - val_loss: 4.1824\n",
            "Epoch 83/100\n",
            "8/8 [==============================] - 0s 4ms/step - loss: 3.8044 - val_loss: 4.1947\n",
            "Epoch 84/100\n",
            "8/8 [==============================] - 0s 3ms/step - loss: 3.8070 - val_loss: 4.1757\n",
            "Epoch 85/100\n",
            "8/8 [==============================] - 0s 3ms/step - loss: 3.8008 - val_loss: 4.1978\n",
            "Epoch 86/100\n",
            "8/8 [==============================] - 0s 3ms/step - loss: 3.8126 - val_loss: 4.2178\n",
            "Epoch 87/100\n",
            "8/8 [==============================] - 0s 3ms/step - loss: 3.8071 - val_loss: 4.1789\n",
            "Epoch 88/100\n",
            "8/8 [==============================] - 0s 3ms/step - loss: 3.8035 - val_loss: 4.1800\n",
            "Epoch 89/100\n",
            "8/8 [==============================] - 0s 3ms/step - loss: 3.8036 - val_loss: 4.1948\n",
            "Epoch 90/100\n",
            "8/8 [==============================] - 0s 3ms/step - loss: 3.8070 - val_loss: 4.2004\n",
            "Epoch 91/100\n",
            "8/8 [==============================] - 0s 3ms/step - loss: 3.8061 - val_loss: 4.1675\n",
            "Epoch 92/100\n",
            "8/8 [==============================] - 0s 3ms/step - loss: 3.8063 - val_loss: 4.1785\n",
            "Epoch 93/100\n",
            "8/8 [==============================] - 0s 3ms/step - loss: 3.8037 - val_loss: 4.1980\n",
            "Epoch 94/100\n",
            "8/8 [==============================] - 0s 3ms/step - loss: 3.8044 - val_loss: 4.1839\n",
            "Epoch 95/100\n",
            "8/8 [==============================] - 0s 4ms/step - loss: 3.8042 - val_loss: 4.1864\n",
            "Epoch 96/100\n",
            "8/8 [==============================] - 0s 3ms/step - loss: 3.8048 - val_loss: 4.1933\n",
            "Epoch 97/100\n",
            "8/8 [==============================] - 0s 3ms/step - loss: 3.8038 - val_loss: 4.1944\n",
            "Epoch 98/100\n",
            "8/8 [==============================] - 0s 3ms/step - loss: 3.8022 - val_loss: 4.1954\n",
            "Epoch 99/100\n",
            "8/8 [==============================] - 0s 3ms/step - loss: 3.8028 - val_loss: 4.1852\n",
            "Epoch 100/100\n",
            "8/8 [==============================] - 0s 3ms/step - loss: 3.8025 - val_loss: 4.1968\n"
          ],
          "name": "stdout"
        }
      ]
    },
    {
      "cell_type": "code",
      "metadata": {
        "id": "USEvJ0CkEnNQ",
        "outputId": "e24e7591-4b43-4de9-e518-a32176d004cf",
        "colab": {
          "base_uri": "https://localhost:8080/",
          "height": 283
        }
      },
      "source": [
        "def plot_loss(history):\n",
        "    plt.plot(history.history['loss'], label='loss')\n",
        "    plt.plot(history.history['val_loss'], label='val_loss')\n",
        "    plt.ylim([0, 25])\n",
        "    plt.xlabel('Epoch')\n",
        "    plt.ylabel('Error [MPG]')\n",
        "    plt.legend()\n",
        "    plt.grid(True)\n",
        "plot_loss(history)"
      ],
      "execution_count": null,
      "outputs": [
        {
          "output_type": "display_data",
          "data": {
            "image/png": "[encoded data removed]",
            "text/plain": [
              "<Figure size 432x288 with 1 Axes>"
            ]
          },
          "metadata": {
            "tags": [],
            "needs_background": "light"
          }
        }
      ]
    },
    {
      "cell_type": "code",
      "metadata": {
        "id": "akkGKeNMFVKA",
        "outputId": "c41c51e4-91c6-4015-f0a4-b36beb898a08",
        "colab": {
          "base_uri": "https://localhost:8080/",
          "height": 51
        }
      },
      "source": [
        "single_feature_model.evaluate(\n",
        "    test_features[feature],test_labels,verbose=1\n",
        ")"
      ],
      "execution_count": null,
      "outputs": [
        {
          "output_type": "stream",
          "text": [
            "3/3 [==============================] - 0s 2ms/step - loss: 3.6461\n"
          ],
          "name": "stdout"
        },
        {
          "output_type": "execute_result",
          "data": {
            "text/plain": [
              "3.646068572998047"
            ]
          },
          "metadata": {
            "tags": []
          },
          "execution_count": 25
        }
      ]
    },
    {
      "cell_type": "code",
      "metadata": {
        "id": "JEm6iXU1GCu_",
        "outputId": "a1aaa759-ecaa-4ee6-eb18-313d5d0c6918",
        "colab": {
          "base_uri": "https://localhost:8080/",
          "height": 497
        }
      },
      "source": [
        "#predict\n",
        "range_min=np.min(test_features[feature])-10\n",
        "range_max=np.max(test_features[feature])+10\n",
        "x=tf.linspace(range_min,range_max,200)\n",
        "y=single_feature_model.predict(x)\n",
        "plot(feature,x,y)"
      ],
      "execution_count": null,
      "outputs": [
        {
          "output_type": "display_data",
          "data": {
            "image/png": "[encoded data removed]",
            "text/plain": [
              "<Figure size 720x576 with 1 Axes>"
            ]
          },
          "metadata": {
            "tags": [],
            "needs_background": "light"
          }
        }
      ]
    },
    {
      "cell_type": "code",
      "metadata": {
        "id": "diOM1zbFLOga"
      },
      "source": [
        "#Deep neural network\n",
        "dnn_model=keras.Sequential([\n",
        "                            single_normalizer,\n",
        "                            layers.Dense(64,activation='relu'),\n",
        "                            layers.Dense(64,activation='relu'),\n",
        "                            layers.Dense(1)\n",
        "])"
      ],
      "execution_count": null,
      "outputs": []
    },
    {
      "cell_type": "code",
      "metadata": {
        "id": "SYc34dpiMG-e",
        "outputId": "3aeac919-79cc-400d-a003-b0a67c487fa1",
        "colab": {
          "base_uri": "https://localhost:8080/",
          "height": 289
        }
      },
      "source": [
        "dnn_model.compile(loss=loss,optimizer=keras.optimizers.Adam(0.001))\n",
        "dnn_model.summary()"
      ],
      "execution_count": null,
      "outputs": [
        {
          "output_type": "stream",
          "text": [
            "Model: \"sequential_1\"\n",
            "_________________________________________________________________\n",
            "Layer (type)                 Output Shape              Param #   \n",
            "=================================================================\n",
            "normalization_3 (Normalizati (None, 1)                 3         \n",
            "_________________________________________________________________\n",
            "dense_1 (Dense)              (None, 64)                128       \n",
            "_________________________________________________________________\n",
            "dense_2 (Dense)              (None, 64)                4160      \n",
            "_________________________________________________________________\n",
            "dense_3 (Dense)              (None, 1)                 65        \n",
            "=================================================================\n",
            "Total params: 4,356\n",
            "Trainable params: 4,353\n",
            "Non-trainable params: 3\n",
            "_________________________________________________________________\n"
          ],
          "name": "stdout"
        }
      ]
    },
    {
      "cell_type": "code",
      "metadata": {
        "id": "K_1Mz4VUMgp-",
        "outputId": "811c26c0-c88f-4c99-a9af-36e6602eac38",
        "colab": {
          "base_uri": "https://localhost:8080/",
          "height": 1000
        }
      },
      "source": [
        "dnn_model.fit( train_features[feature],train_labels,validation_split=0.2,epochs=100,verbose=1)"
      ],
      "execution_count": null,
      "outputs": [
        {
          "output_type": "stream",
          "text": [
            "Epoch 1/100\n",
            "8/8 [==============================] - 0s 14ms/step - loss: 23.0573 - val_loss: 23.4497\n",
            "Epoch 2/100\n",
            "8/8 [==============================] - 0s 4ms/step - loss: 22.8424 - val_loss: 23.2032\n",
            "Epoch 3/100\n",
            "8/8 [==============================] - 0s 3ms/step - loss: 22.5909 - val_loss: 22.9064\n",
            "Epoch 4/100\n",
            "8/8 [==============================] - 0s 4ms/step - loss: 22.2753 - val_loss: 22.5127\n",
            "Epoch 5/100\n",
            "8/8 [==============================] - 0s 4ms/step - loss: 21.8444 - val_loss: 21.9750\n",
            "Epoch 6/100\n",
            "8/8 [==============================] - 0s 3ms/step - loss: 21.2586 - val_loss: 21.2729\n",
            "Epoch 7/100\n",
            "8/8 [==============================] - 0s 5ms/step - loss: 20.5049 - val_loss: 20.3606\n",
            "Epoch 8/100\n",
            "8/8 [==============================] - 0s 4ms/step - loss: 19.5143 - val_loss: 19.1876\n",
            "Epoch 9/100\n",
            "8/8 [==============================] - 0s 5ms/step - loss: 18.2987 - val_loss: 17.8059\n",
            "Epoch 10/100\n",
            "8/8 [==============================] - 0s 3ms/step - loss: 16.9321 - val_loss: 16.3019\n",
            "Epoch 11/100\n",
            "8/8 [==============================] - 0s 4ms/step - loss: 15.3895 - val_loss: 14.8056\n",
            "Epoch 12/100\n",
            "8/8 [==============================] - 0s 3ms/step - loss: 13.6743 - val_loss: 13.2123\n",
            "Epoch 13/100\n",
            "8/8 [==============================] - 0s 3ms/step - loss: 11.7703 - val_loss: 11.3447\n",
            "Epoch 14/100\n",
            "8/8 [==============================] - 0s 4ms/step - loss: 9.7360 - val_loss: 9.1461\n",
            "Epoch 15/100\n",
            "8/8 [==============================] - 0s 3ms/step - loss: 7.3876 - val_loss: 6.9784\n",
            "Epoch 16/100\n",
            "8/8 [==============================] - 0s 5ms/step - loss: 5.2630 - val_loss: 5.3493\n",
            "Epoch 17/100\n",
            "8/8 [==============================] - 0s 5ms/step - loss: 4.0949 - val_loss: 5.0316\n",
            "Epoch 18/100\n",
            "8/8 [==============================] - 0s 3ms/step - loss: 3.9383 - val_loss: 4.9437\n",
            "Epoch 19/100\n",
            "8/8 [==============================] - 0s 4ms/step - loss: 3.8892 - val_loss: 4.7846\n",
            "Epoch 20/100\n",
            "8/8 [==============================] - 0s 3ms/step - loss: 3.8144 - val_loss: 4.6561\n",
            "Epoch 21/100\n",
            "8/8 [==============================] - 0s 3ms/step - loss: 3.7819 - val_loss: 4.6060\n",
            "Epoch 22/100\n",
            "8/8 [==============================] - 0s 3ms/step - loss: 3.7453 - val_loss: 4.5742\n",
            "Epoch 23/100\n",
            "8/8 [==============================] - 0s 3ms/step - loss: 3.7051 - val_loss: 4.5460\n",
            "Epoch 24/100\n",
            "8/8 [==============================] - 0s 3ms/step - loss: 3.6701 - val_loss: 4.5049\n",
            "Epoch 25/100\n",
            "8/8 [==============================] - 0s 3ms/step - loss: 3.6433 - val_loss: 4.4552\n",
            "Epoch 26/100\n",
            "8/8 [==============================] - 0s 3ms/step - loss: 3.6199 - val_loss: 4.4006\n",
            "Epoch 27/100\n",
            "8/8 [==============================] - 0s 4ms/step - loss: 3.5908 - val_loss: 4.3543\n",
            "Epoch 28/100\n",
            "8/8 [==============================] - 0s 4ms/step - loss: 3.5809 - val_loss: 4.3157\n",
            "Epoch 29/100\n",
            "8/8 [==============================] - 0s 3ms/step - loss: 3.5525 - val_loss: 4.2812\n",
            "Epoch 30/100\n",
            "8/8 [==============================] - 0s 4ms/step - loss: 3.5344 - val_loss: 4.2425\n",
            "Epoch 31/100\n",
            "8/8 [==============================] - 0s 4ms/step - loss: 3.5241 - val_loss: 4.2110\n",
            "Epoch 32/100\n",
            "8/8 [==============================] - 0s 3ms/step - loss: 3.5089 - val_loss: 4.1796\n",
            "Epoch 33/100\n",
            "8/8 [==============================] - 0s 3ms/step - loss: 3.5171 - val_loss: 4.1559\n",
            "Epoch 34/100\n",
            "8/8 [==============================] - 0s 3ms/step - loss: 3.4811 - val_loss: 4.1303\n",
            "Epoch 35/100\n",
            "8/8 [==============================] - 0s 3ms/step - loss: 3.4720 - val_loss: 4.1088\n",
            "Epoch 36/100\n",
            "8/8 [==============================] - 0s 5ms/step - loss: 3.4593 - val_loss: 4.0891\n",
            "Epoch 37/100\n",
            "8/8 [==============================] - 0s 4ms/step - loss: 3.4425 - val_loss: 4.0703\n",
            "Epoch 38/100\n",
            "8/8 [==============================] - 0s 4ms/step - loss: 3.4389 - val_loss: 4.0513\n",
            "Epoch 39/100\n",
            "8/8 [==============================] - 0s 3ms/step - loss: 3.4201 - val_loss: 4.0356\n",
            "Epoch 40/100\n",
            "8/8 [==============================] - 0s 3ms/step - loss: 3.4104 - val_loss: 4.0157\n",
            "Epoch 41/100\n",
            "8/8 [==============================] - 0s 4ms/step - loss: 3.3948 - val_loss: 4.0052\n",
            "Epoch 42/100\n",
            "8/8 [==============================] - 0s 4ms/step - loss: 3.3908 - val_loss: 3.9934\n",
            "Epoch 43/100\n",
            "8/8 [==============================] - 0s 4ms/step - loss: 3.3814 - val_loss: 3.9669\n",
            "Epoch 44/100\n",
            "8/8 [==============================] - 0s 3ms/step - loss: 3.3772 - val_loss: 3.9526\n",
            "Epoch 45/100\n",
            "8/8 [==============================] - 0s 3ms/step - loss: 3.3666 - val_loss: 3.9472\n",
            "Epoch 46/100\n",
            "8/8 [==============================] - 0s 3ms/step - loss: 3.3679 - val_loss: 3.9229\n",
            "Epoch 47/100\n",
            "8/8 [==============================] - 0s 3ms/step - loss: 3.3485 - val_loss: 3.9170\n",
            "Epoch 48/100\n",
            "8/8 [==============================] - 0s 4ms/step - loss: 3.3467 - val_loss: 3.8970\n",
            "Epoch 49/100\n",
            "8/8 [==============================] - 0s 3ms/step - loss: 3.3342 - val_loss: 3.8822\n",
            "Epoch 50/100\n",
            "8/8 [==============================] - 0s 4ms/step - loss: 3.3381 - val_loss: 3.8700\n",
            "Epoch 51/100\n",
            "8/8 [==============================] - 0s 3ms/step - loss: 3.3203 - val_loss: 3.8654\n",
            "Epoch 52/100\n",
            "8/8 [==============================] - 0s 4ms/step - loss: 3.3191 - val_loss: 3.8533\n",
            "Epoch 53/100\n",
            "8/8 [==============================] - 0s 3ms/step - loss: 3.3119 - val_loss: 3.8379\n",
            "Epoch 54/100\n",
            "8/8 [==============================] - 0s 3ms/step - loss: 3.3098 - val_loss: 3.8297\n",
            "Epoch 55/100\n",
            "8/8 [==============================] - 0s 3ms/step - loss: 3.3008 - val_loss: 3.8204\n",
            "Epoch 56/100\n",
            "8/8 [==============================] - 0s 4ms/step - loss: 3.3005 - val_loss: 3.8115\n",
            "Epoch 57/100\n",
            "8/8 [==============================] - 0s 3ms/step - loss: 3.2917 - val_loss: 3.8045\n",
            "Epoch 58/100\n",
            "8/8 [==============================] - 0s 3ms/step - loss: 3.2888 - val_loss: 3.7976\n",
            "Epoch 59/100\n",
            "8/8 [==============================] - 0s 4ms/step - loss: 3.3019 - val_loss: 3.7993\n",
            "Epoch 60/100\n",
            "8/8 [==============================] - 0s 4ms/step - loss: 3.2860 - val_loss: 3.7882\n",
            "Epoch 61/100\n",
            "8/8 [==============================] - 0s 4ms/step - loss: 3.2815 - val_loss: 3.7840\n",
            "Epoch 62/100\n",
            "8/8 [==============================] - 0s 3ms/step - loss: 3.2847 - val_loss: 3.8002\n",
            "Epoch 63/100\n",
            "8/8 [==============================] - 0s 4ms/step - loss: 3.2901 - val_loss: 3.7918\n",
            "Epoch 64/100\n",
            "8/8 [==============================] - 0s 3ms/step - loss: 3.2949 - val_loss: 3.7695\n",
            "Epoch 65/100\n",
            "8/8 [==============================] - 0s 3ms/step - loss: 3.2846 - val_loss: 3.7861\n",
            "Epoch 66/100\n",
            "8/8 [==============================] - 0s 4ms/step - loss: 3.2800 - val_loss: 3.7729\n",
            "Epoch 67/100\n",
            "8/8 [==============================] - 0s 4ms/step - loss: 3.2840 - val_loss: 3.7747\n",
            "Epoch 68/100\n",
            "8/8 [==============================] - 0s 4ms/step - loss: 3.2923 - val_loss: 3.8038\n",
            "Epoch 69/100\n",
            "8/8 [==============================] - 0s 4ms/step - loss: 3.2797 - val_loss: 3.7884\n",
            "Epoch 70/100\n",
            "8/8 [==============================] - 0s 4ms/step - loss: 3.2847 - val_loss: 3.7615\n",
            "Epoch 71/100\n",
            "8/8 [==============================] - 0s 4ms/step - loss: 3.2770 - val_loss: 3.7653\n",
            "Epoch 72/100\n",
            "8/8 [==============================] - 0s 3ms/step - loss: 3.2693 - val_loss: 3.7935\n",
            "Epoch 73/100\n",
            "8/8 [==============================] - 0s 3ms/step - loss: 3.2792 - val_loss: 3.8044\n",
            "Epoch 74/100\n",
            "8/8 [==============================] - 0s 3ms/step - loss: 3.2842 - val_loss: 3.7636\n",
            "Epoch 75/100\n",
            "8/8 [==============================] - 0s 4ms/step - loss: 3.2697 - val_loss: 3.7773\n",
            "Epoch 76/100\n",
            "8/8 [==============================] - 0s 3ms/step - loss: 3.2672 - val_loss: 3.7915\n",
            "Epoch 77/100\n",
            "8/8 [==============================] - 0s 4ms/step - loss: 3.2686 - val_loss: 3.7787\n",
            "Epoch 78/100\n",
            "8/8 [==============================] - 0s 3ms/step - loss: 3.2671 - val_loss: 3.7791\n",
            "Epoch 79/100\n",
            "8/8 [==============================] - 0s 4ms/step - loss: 3.2641 - val_loss: 3.7839\n",
            "Epoch 80/100\n",
            "8/8 [==============================] - 0s 3ms/step - loss: 3.2651 - val_loss: 3.7694\n",
            "Epoch 81/100\n",
            "8/8 [==============================] - 0s 3ms/step - loss: 3.2651 - val_loss: 3.7728\n",
            "Epoch 82/100\n",
            "8/8 [==============================] - 0s 3ms/step - loss: 3.2651 - val_loss: 3.7847\n",
            "Epoch 83/100\n",
            "8/8 [==============================] - 0s 4ms/step - loss: 3.2647 - val_loss: 3.7843\n",
            "Epoch 84/100\n",
            "8/8 [==============================] - 0s 3ms/step - loss: 3.2639 - val_loss: 3.7672\n",
            "Epoch 85/100\n",
            "8/8 [==============================] - 0s 4ms/step - loss: 3.2642 - val_loss: 3.7691\n",
            "Epoch 86/100\n",
            "8/8 [==============================] - 0s 4ms/step - loss: 3.2620 - val_loss: 3.7782\n",
            "Epoch 87/100\n",
            "8/8 [==============================] - 0s 3ms/step - loss: 3.2586 - val_loss: 3.7716\n",
            "Epoch 88/100\n",
            "8/8 [==============================] - 0s 4ms/step - loss: 3.2583 - val_loss: 3.7695\n",
            "Epoch 89/100\n",
            "8/8 [==============================] - 0s 4ms/step - loss: 3.2603 - val_loss: 3.7865\n",
            "Epoch 90/100\n",
            "8/8 [==============================] - 0s 3ms/step - loss: 3.2644 - val_loss: 3.7611\n",
            "Epoch 91/100\n",
            "8/8 [==============================] - 0s 3ms/step - loss: 3.2584 - val_loss: 3.7772\n",
            "Epoch 92/100\n",
            "8/8 [==============================] - 0s 4ms/step - loss: 3.2585 - val_loss: 3.7866\n",
            "Epoch 93/100\n",
            "8/8 [==============================] - 0s 3ms/step - loss: 3.2574 - val_loss: 3.7699\n",
            "Epoch 94/100\n",
            "8/8 [==============================] - 0s 4ms/step - loss: 3.2548 - val_loss: 3.7506\n",
            "Epoch 95/100\n",
            "8/8 [==============================] - 0s 4ms/step - loss: 3.2621 - val_loss: 3.7531\n",
            "Epoch 96/100\n",
            "8/8 [==============================] - 0s 4ms/step - loss: 3.2700 - val_loss: 3.7791\n",
            "Epoch 97/100\n",
            "8/8 [==============================] - 0s 5ms/step - loss: 3.2608 - val_loss: 3.7618\n",
            "Epoch 98/100\n",
            "8/8 [==============================] - 0s 4ms/step - loss: 3.2544 - val_loss: 3.7629\n",
            "Epoch 99/100\n",
            "8/8 [==============================] - 0s 4ms/step - loss: 3.2568 - val_loss: 3.7744\n",
            "Epoch 100/100\n",
            "8/8 [==============================] - 0s 3ms/step - loss: 3.2499 - val_loss: 3.7672\n"
          ],
          "name": "stdout"
        },
        {
          "output_type": "execute_result",
          "data": {
            "text/plain": [
              "<tensorflow.python.keras.callbacks.History at 0x7fb1e5190d30>"
            ]
          },
          "metadata": {
            "tags": []
          },
          "execution_count": 34
        }
      ]
    },
    {
      "cell_type": "code",
      "metadata": {
        "id": "ycNu7tS6NALm",
        "outputId": "60f18504-9ee3-4411-9d8e-d47c9dc11f55",
        "colab": {
          "base_uri": "https://localhost:8080/",
          "height": 51
        }
      },
      "source": [
        "dnn_model.evaluate(test_features[feature],test_labels,verbose=1)"
      ],
      "execution_count": null,
      "outputs": [
        {
          "output_type": "stream",
          "text": [
            "3/3 [==============================] - 0s 2ms/step - loss: 2.9291\n"
          ],
          "name": "stdout"
        },
        {
          "output_type": "execute_result",
          "data": {
            "text/plain": [
              "2.92905592918396"
            ]
          },
          "metadata": {
            "tags": []
          },
          "execution_count": 35
        }
      ]
    },
    {
      "cell_type": "code",
      "metadata": {
        "id": "yh4IuG4LOAxb",
        "outputId": "46103f97-2744-444d-ee59-258e1ded6fcb",
        "colab": {
          "base_uri": "https://localhost:8080/",
          "height": 497
        }
      },
      "source": [
        "#predict\n",
        "x=tf.linspace(range_min,range_max,200)\n",
        "y=dnn_model.predict(x)\n",
        "plot(feature,x,y)"
      ],
      "execution_count": null,
      "outputs": [
        {
          "output_type": "display_data",
          "data": {
            "image/png": "[encoded data removed]",
            "text/plain": [
              "<Figure size 720x576 with 1 Axes>"
            ]
          },
          "metadata": {
            "tags": [],
            "needs_background": "light"
          }
        }
      ]
    },
    {
      "cell_type": "code",
      "metadata": {
        "id": "jNaoSPleOWl8"
      },
      "source": [
        "linear_model=tf.keras.Sequential([\n",
        "                                  normalizer,\n",
        "                                  layers.Dense(units=1)\n",
        "])\n",
        "linear_model.compile(optimizer=keras.optimizers.Adam(0.1),loss=loss)"
      ],
      "execution_count": null,
      "outputs": []
    },
    {
      "cell_type": "code",
      "metadata": {
        "id": "lYnBdAVuO8wc",
        "outputId": "1b81f057-7c43-411a-ba4a-59c1fd51d923",
        "colab": {
          "base_uri": "https://localhost:8080/",
          "height": 1000
        }
      },
      "source": [
        "linear_model.fit(train_features,train_labels,epochs=100,verbose=1,validation_split=0.2)"
      ],
      "execution_count": null,
      "outputs": [
        {
          "output_type": "stream",
          "text": [
            "Epoch 1/100\n",
            "8/8 [==============================] - 0s 13ms/step - loss: 22.9332 - val_loss: 23.0089\n",
            "Epoch 2/100\n",
            "8/8 [==============================] - 0s 3ms/step - loss: 22.0567 - val_loss: 22.2455\n",
            "Epoch 3/100\n",
            "8/8 [==============================] - 0s 3ms/step - loss: 21.2371 - val_loss: 21.5142\n",
            "Epoch 4/100\n",
            "8/8 [==============================] - 0s 3ms/step - loss: 20.4234 - val_loss: 20.7920\n",
            "Epoch 5/100\n",
            "8/8 [==============================] - 0s 3ms/step - loss: 19.6118 - val_loss: 20.0635\n",
            "Epoch 6/100\n",
            "8/8 [==============================] - 0s 3ms/step - loss: 18.7724 - val_loss: 19.3476\n",
            "Epoch 7/100\n",
            "8/8 [==============================] - 0s 3ms/step - loss: 17.9785 - val_loss: 18.6226\n",
            "Epoch 8/100\n",
            "8/8 [==============================] - 0s 3ms/step - loss: 17.1490 - val_loss: 17.8924\n",
            "Epoch 9/100\n",
            "8/8 [==============================] - 0s 3ms/step - loss: 16.3236 - val_loss: 17.1699\n",
            "Epoch 10/100\n",
            "8/8 [==============================] - 0s 3ms/step - loss: 15.5108 - val_loss: 16.4572\n",
            "Epoch 11/100\n",
            "8/8 [==============================] - 0s 4ms/step - loss: 14.6802 - val_loss: 15.7628\n",
            "Epoch 12/100\n",
            "8/8 [==============================] - 0s 3ms/step - loss: 13.8772 - val_loss: 15.0608\n",
            "Epoch 13/100\n",
            "8/8 [==============================] - 0s 3ms/step - loss: 13.0826 - val_loss: 14.3281\n",
            "Epoch 14/100\n",
            "8/8 [==============================] - 0s 3ms/step - loss: 12.2735 - val_loss: 13.6209\n",
            "Epoch 15/100\n",
            "8/8 [==============================] - 0s 4ms/step - loss: 11.4773 - val_loss: 12.8927\n",
            "Epoch 16/100\n",
            "8/8 [==============================] - 0s 4ms/step - loss: 10.6829 - val_loss: 12.1680\n",
            "Epoch 17/100\n",
            "8/8 [==============================] - 0s 4ms/step - loss: 9.8866 - val_loss: 11.3657\n",
            "Epoch 18/100\n",
            "8/8 [==============================] - 0s 3ms/step - loss: 9.1241 - val_loss: 10.5897\n",
            "Epoch 19/100\n",
            "8/8 [==============================] - 0s 3ms/step - loss: 8.3600 - val_loss: 9.9033\n",
            "Epoch 20/100\n",
            "8/8 [==============================] - 0s 3ms/step - loss: 7.6642 - val_loss: 9.0801\n",
            "Epoch 21/100\n",
            "8/8 [==============================] - 0s 3ms/step - loss: 6.9364 - val_loss: 8.4379\n",
            "Epoch 22/100\n",
            "8/8 [==============================] - 0s 3ms/step - loss: 6.3433 - val_loss: 7.9063\n",
            "Epoch 23/100\n",
            "8/8 [==============================] - 0s 3ms/step - loss: 5.7772 - val_loss: 7.1833\n",
            "Epoch 24/100\n",
            "8/8 [==============================] - 0s 3ms/step - loss: 5.2436 - val_loss: 6.6631\n",
            "Epoch 25/100\n",
            "8/8 [==============================] - 0s 3ms/step - loss: 4.8147 - val_loss: 5.9397\n",
            "Epoch 26/100\n",
            "8/8 [==============================] - 0s 3ms/step - loss: 4.3505 - val_loss: 5.3406\n",
            "Epoch 27/100\n",
            "8/8 [==============================] - 0s 3ms/step - loss: 3.9498 - val_loss: 4.5700\n",
            "Epoch 28/100\n",
            "8/8 [==============================] - 0s 3ms/step - loss: 3.5270 - val_loss: 3.9909\n",
            "Epoch 29/100\n",
            "8/8 [==============================] - 0s 3ms/step - loss: 3.1525 - val_loss: 3.5386\n",
            "Epoch 30/100\n",
            "8/8 [==============================] - 0s 3ms/step - loss: 2.9267 - val_loss: 3.1727\n",
            "Epoch 31/100\n",
            "8/8 [==============================] - 0s 3ms/step - loss: 2.7738 - val_loss: 2.9315\n",
            "Epoch 32/100\n",
            "8/8 [==============================] - 0s 3ms/step - loss: 2.6923 - val_loss: 2.8287\n",
            "Epoch 33/100\n",
            "8/8 [==============================] - 0s 3ms/step - loss: 2.6244 - val_loss: 2.7668\n",
            "Epoch 34/100\n",
            "8/8 [==============================] - 0s 3ms/step - loss: 2.5738 - val_loss: 2.6870\n",
            "Epoch 35/100\n",
            "8/8 [==============================] - 0s 3ms/step - loss: 2.5383 - val_loss: 2.6339\n",
            "Epoch 36/100\n",
            "8/8 [==============================] - 0s 3ms/step - loss: 2.5192 - val_loss: 2.5855\n",
            "Epoch 37/100\n",
            "8/8 [==============================] - 0s 3ms/step - loss: 2.5104 - val_loss: 2.5578\n",
            "Epoch 38/100\n",
            "8/8 [==============================] - 0s 3ms/step - loss: 2.5178 - val_loss: 2.5288\n",
            "Epoch 39/100\n",
            "8/8 [==============================] - 0s 3ms/step - loss: 2.5092 - val_loss: 2.5692\n",
            "Epoch 40/100\n",
            "8/8 [==============================] - 0s 3ms/step - loss: 2.4912 - val_loss: 2.5194\n",
            "Epoch 41/100\n",
            "8/8 [==============================] - 0s 3ms/step - loss: 2.5097 - val_loss: 2.5334\n",
            "Epoch 42/100\n",
            "8/8 [==============================] - 0s 3ms/step - loss: 2.5113 - val_loss: 2.5066\n",
            "Epoch 43/100\n",
            "8/8 [==============================] - 0s 4ms/step - loss: 2.4876 - val_loss: 2.5257\n",
            "Epoch 44/100\n",
            "8/8 [==============================] - 0s 3ms/step - loss: 2.4875 - val_loss: 2.5187\n",
            "Epoch 45/100\n",
            "8/8 [==============================] - 0s 3ms/step - loss: 2.4868 - val_loss: 2.4896\n",
            "Epoch 46/100\n",
            "8/8 [==============================] - 0s 3ms/step - loss: 2.4750 - val_loss: 2.4947\n",
            "Epoch 47/100\n",
            "8/8 [==============================] - 0s 3ms/step - loss: 2.4877 - val_loss: 2.4987\n",
            "Epoch 48/100\n",
            "8/8 [==============================] - 0s 4ms/step - loss: 2.4710 - val_loss: 2.4938\n",
            "Epoch 49/100\n",
            "8/8 [==============================] - 0s 3ms/step - loss: 2.4911 - val_loss: 2.5169\n",
            "Epoch 50/100\n",
            "8/8 [==============================] - 0s 3ms/step - loss: 2.5032 - val_loss: 2.4765\n",
            "Epoch 51/100\n",
            "8/8 [==============================] - 0s 3ms/step - loss: 2.4792 - val_loss: 2.5002\n",
            "Epoch 52/100\n",
            "8/8 [==============================] - 0s 3ms/step - loss: 2.4659 - val_loss: 2.4798\n",
            "Epoch 53/100\n",
            "8/8 [==============================] - 0s 3ms/step - loss: 2.4691 - val_loss: 2.5138\n",
            "Epoch 54/100\n",
            "8/8 [==============================] - 0s 3ms/step - loss: 2.4702 - val_loss: 2.4708\n",
            "Epoch 55/100\n",
            "8/8 [==============================] - 0s 3ms/step - loss: 2.5188 - val_loss: 2.4796\n",
            "Epoch 56/100\n",
            "8/8 [==============================] - 0s 3ms/step - loss: 2.4851 - val_loss: 2.4945\n",
            "Epoch 57/100\n",
            "8/8 [==============================] - 0s 3ms/step - loss: 2.4914 - val_loss: 2.4623\n",
            "Epoch 58/100\n",
            "8/8 [==============================] - 0s 3ms/step - loss: 2.5627 - val_loss: 2.4934\n",
            "Epoch 59/100\n",
            "8/8 [==============================] - 0s 3ms/step - loss: 2.4639 - val_loss: 2.4749\n",
            "Epoch 60/100\n",
            "8/8 [==============================] - 0s 3ms/step - loss: 2.4880 - val_loss: 2.5500\n",
            "Epoch 61/100\n",
            "8/8 [==============================] - 0s 3ms/step - loss: 2.4859 - val_loss: 2.4751\n",
            "Epoch 62/100\n",
            "8/8 [==============================] - 0s 3ms/step - loss: 2.4714 - val_loss: 2.4881\n",
            "Epoch 63/100\n",
            "8/8 [==============================] - 0s 3ms/step - loss: 2.4726 - val_loss: 2.4940\n",
            "Epoch 64/100\n",
            "8/8 [==============================] - 0s 3ms/step - loss: 2.4737 - val_loss: 2.4984\n",
            "Epoch 65/100\n",
            "8/8 [==============================] - 0s 3ms/step - loss: 2.4741 - val_loss: 2.4838\n",
            "Epoch 66/100\n",
            "8/8 [==============================] - 0s 3ms/step - loss: 2.4778 - val_loss: 2.4880\n",
            "Epoch 67/100\n",
            "8/8 [==============================] - 0s 3ms/step - loss: 2.4884 - val_loss: 2.4645\n",
            "Epoch 68/100\n",
            "8/8 [==============================] - 0s 3ms/step - loss: 2.4669 - val_loss: 2.4909\n",
            "Epoch 69/100\n",
            "8/8 [==============================] - 0s 3ms/step - loss: 2.4709 - val_loss: 2.4921\n",
            "Epoch 70/100\n",
            "8/8 [==============================] - 0s 3ms/step - loss: 2.4700 - val_loss: 2.4692\n",
            "Epoch 71/100\n",
            "8/8 [==============================] - 0s 3ms/step - loss: 2.4697 - val_loss: 2.5067\n",
            "Epoch 72/100\n",
            "8/8 [==============================] - 0s 3ms/step - loss: 2.4704 - val_loss: 2.4996\n",
            "Epoch 73/100\n",
            "8/8 [==============================] - 0s 3ms/step - loss: 2.4734 - val_loss: 2.4888\n",
            "Epoch 74/100\n",
            "8/8 [==============================] - 0s 3ms/step - loss: 2.4934 - val_loss: 2.4876\n",
            "Epoch 75/100\n",
            "8/8 [==============================] - 0s 3ms/step - loss: 2.4699 - val_loss: 2.4796\n",
            "Epoch 76/100\n",
            "8/8 [==============================] - 0s 3ms/step - loss: 2.4800 - val_loss: 2.4685\n",
            "Epoch 77/100\n",
            "8/8 [==============================] - 0s 4ms/step - loss: 2.4949 - val_loss: 2.4854\n",
            "Epoch 78/100\n",
            "8/8 [==============================] - 0s 3ms/step - loss: 2.4710 - val_loss: 2.4683\n",
            "Epoch 79/100\n",
            "8/8 [==============================] - 0s 3ms/step - loss: 2.4636 - val_loss: 2.4597\n",
            "Epoch 80/100\n",
            "8/8 [==============================] - 0s 3ms/step - loss: 2.4741 - val_loss: 2.5069\n",
            "Epoch 81/100\n",
            "8/8 [==============================] - 0s 3ms/step - loss: 2.4705 - val_loss: 2.4629\n",
            "Epoch 82/100\n",
            "8/8 [==============================] - 0s 3ms/step - loss: 2.4764 - val_loss: 2.4687\n",
            "Epoch 83/100\n",
            "8/8 [==============================] - 0s 3ms/step - loss: 2.4717 - val_loss: 2.4775\n",
            "Epoch 84/100\n",
            "8/8 [==============================] - 0s 3ms/step - loss: 2.4793 - val_loss: 2.4671\n",
            "Epoch 85/100\n",
            "8/8 [==============================] - 0s 3ms/step - loss: 2.4735 - val_loss: 2.4834\n",
            "Epoch 86/100\n",
            "8/8 [==============================] - 0s 3ms/step - loss: 2.4766 - val_loss: 2.4854\n",
            "Epoch 87/100\n",
            "8/8 [==============================] - 0s 3ms/step - loss: 2.5081 - val_loss: 2.5035\n",
            "Epoch 88/100\n",
            "8/8 [==============================] - 0s 3ms/step - loss: 2.4776 - val_loss: 2.4733\n",
            "Epoch 89/100\n",
            "8/8 [==============================] - 0s 3ms/step - loss: 2.4699 - val_loss: 2.4641\n",
            "Epoch 90/100\n",
            "8/8 [==============================] - 0s 3ms/step - loss: 2.4853 - val_loss: 2.4652\n",
            "Epoch 91/100\n",
            "8/8 [==============================] - 0s 3ms/step - loss: 2.5025 - val_loss: 2.4875\n",
            "Epoch 92/100\n",
            "8/8 [==============================] - 0s 3ms/step - loss: 2.5100 - val_loss: 2.4687\n",
            "Epoch 93/100\n",
            "8/8 [==============================] - 0s 3ms/step - loss: 2.4978 - val_loss: 2.5266\n",
            "Epoch 94/100\n",
            "8/8 [==============================] - 0s 3ms/step - loss: 2.4778 - val_loss: 2.4774\n",
            "Epoch 95/100\n",
            "8/8 [==============================] - 0s 3ms/step - loss: 2.4661 - val_loss: 2.5130\n",
            "Epoch 96/100\n",
            "8/8 [==============================] - 0s 3ms/step - loss: 2.4793 - val_loss: 2.4797\n",
            "Epoch 97/100\n",
            "8/8 [==============================] - 0s 3ms/step - loss: 2.4809 - val_loss: 2.5049\n",
            "Epoch 98/100\n",
            "8/8 [==============================] - 0s 3ms/step - loss: 2.4804 - val_loss: 2.4768\n",
            "Epoch 99/100\n",
            "8/8 [==============================] - 0s 3ms/step - loss: 2.4721 - val_loss: 2.4895\n",
            "Epoch 100/100\n",
            "8/8 [==============================] - 0s 3ms/step - loss: 2.4659 - val_loss: 2.4920\n"
          ],
          "name": "stdout"
        },
        {
          "output_type": "execute_result",
          "data": {
            "text/plain": [
              "<tensorflow.python.keras.callbacks.History at 0x7fb1e2748c50>"
            ]
          },
          "metadata": {
            "tags": []
          },
          "execution_count": 38
        }
      ]
    },
    {
      "cell_type": "code",
      "metadata": {
        "id": "NPKCL_yYPXkw",
        "outputId": "22da7cd7-78d7-4c2d-9862-77442497d46c",
        "colab": {
          "base_uri": "https://localhost:8080/",
          "height": 51
        }
      },
      "source": [
        "linear_model.evaluate(test_features,test_labels,verbose=1)"
      ],
      "execution_count": null,
      "outputs": [
        {
          "output_type": "stream",
          "text": [
            "3/3 [==============================] - 0s 2ms/step - loss: 2.5096\n"
          ],
          "name": "stdout"
        },
        {
          "output_type": "execute_result",
          "data": {
            "text/plain": [
              "2.509626865386963"
            ]
          },
          "metadata": {
            "tags": []
          },
          "execution_count": 39
        }
      ]
    }
  ]
}