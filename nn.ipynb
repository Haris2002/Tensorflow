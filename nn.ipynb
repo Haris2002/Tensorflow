{
  "nbformat": 4,
  "nbformat_minor": 0,
  "metadata": {
    "colab": {
      "name": "nn.ipynb",
      "provenance": [],
      "collapsed_sections": []
    },
    "kernelspec": {
      "name": "python3",
      "display_name": "Python 3"
    },
    "accelerator": "GPU"
  },
  "cells": [
    {
      "cell_type": "code",
      "metadata": {
        "id": "gXsB3t1F8ulf"
      },
      "source": [
        "#importing libraries\n",
        "import tensorflow as tf\n",
        "from tensorflow import keras\n",
        "import numpy as np\n",
        "import matplotlib.pyplot as plt"
      ],
      "execution_count": null,
      "outputs": []
    },
    {
      "cell_type": "code",
      "metadata": {
        "id": "qUNCk6oG93Ot",
        "outputId": "fe80ebc6-74ed-4674-9444-9c89b5abac45",
        "colab": {
          "base_uri": "https://localhost:8080/",
          "height": 68
        }
      },
      "source": [
        "mnist=keras.datasets.mnist #Datasets for handwritten digit classfication\n",
        "(x_train,y_train),(x_test,y_test)=mnist.load_data() #Loading train and test sets\n",
        "print(x_train.shape,y_train.shape)"
      ],
      "execution_count": null,
      "outputs": [
        {
          "output_type": "stream",
          "text": [
            "Downloading data from https://storage.googleapis.com/tensorflow/tf-keras-datasets/mnist.npz\n",
            "11493376/11490434 [==============================] - 0s 0us/step\n",
            "(60000, 28, 28) (60000,)\n"
          ],
          "name": "stdout"
        }
      ]
    },
    {
      "cell_type": "code",
      "metadata": {
        "id": "POk_-FdN_YvD"
      },
      "source": [
        "#normalize 0,255--->0,1\n",
        "x_train,x_test=x_train/255.0,x_test/255.0"
      ],
      "execution_count": null,
      "outputs": []
    },
    {
      "cell_type": "code",
      "metadata": {
        "id": "uDTYxFgID0m-",
        "outputId": "10f1d898-6c64-416f-c499-cae201f79143",
        "colab": {
          "base_uri": "https://localhost:8080/",
          "height": 267
        }
      },
      "source": [
        "#plotting the data\n",
        "for i in range(6):\n",
        "  plt.subplot(2,3,i+1)\n",
        "  plt.imshow(x_train[i],cmap='gray')\n",
        "plt.show()"
      ],
      "execution_count": null,
      "outputs": [
        {
          "output_type": "display_data",
          "data": {
            "image/png": "[encoded data removed]",
            "text/plain": [
              "<Figure size 432x288 with 6 Axes>"
            ]
          },
          "metadata": {
            "tags": [],
            "needs_background": "light"
          }
        }
      ]
    },
    {
      "cell_type": "code",
      "metadata": {
        "id": "i9ey03tOEVsn",
        "outputId": "3ec858e6-a487-4514-9cde-66d43bd2f79f",
        "colab": {
          "base_uri": "https://localhost:8080/",
          "height": 272
        }
      },
      "source": [
        "#model\n",
        "model=keras.models.Sequential([\n",
        "                               keras.layers.Flatten(input_shape=(28,28)) ,#Reduces to 1D array\n",
        "                               keras.layers.Dense(128,activation='relu'), #Creates a hidden layer with 128 hidden units and activation fn relu\n",
        "                               keras.layers.Dense(10) #Output layer \n",
        "])\n",
        "print(model.summary())"
      ],
      "execution_count": null,
      "outputs": [
        {
          "output_type": "stream",
          "text": [
            "Model: \"sequential\"\n",
            "_________________________________________________________________\n",
            "Layer (type)                 Output Shape              Param #   \n",
            "=================================================================\n",
            "flatten (Flatten)            (None, 784)               0         \n",
            "_________________________________________________________________\n",
            "dense (Dense)                (None, 128)               100480    \n",
            "_________________________________________________________________\n",
            "dense_1 (Dense)              (None, 10)                1290      \n",
            "=================================================================\n",
            "Total params: 101,770\n",
            "Trainable params: 101,770\n",
            "Non-trainable params: 0\n",
            "_________________________________________________________________\n",
            "None\n"
          ],
          "name": "stdout"
        }
      ]
    },
    {
      "cell_type": "code",
      "metadata": {
        "id": "YksOVHAjcPHX"
      },
      "source": [
        "#Another way of defining model\n",
        "model=keras.Sequential()\n",
        "model.add(keras.layers.Flatten(input_shape=(28,28)))\n",
        "model.add(keras.layers.Dense(128,activation='relu'))\n",
        "model.add(keras.layers.Dense(10))"
      ],
      "execution_count": null,
      "outputs": []
    },
    {
      "cell_type": "code",
      "metadata": {
        "id": "WxyM0tdTdwJa"
      },
      "source": [
        "#Loss and optimizer\n",
        "loss=keras.losses.SparseCategoricalCrossentropy(from_logits=True)\n",
        "optim=keras.optimizers.Adam(learning_rate=0.001)\n",
        "metrics=[\"accuracy\"]\n",
        "model.compile(loss=loss,optimizer=optim,metrics=metrics)"
      ],
      "execution_count": null,
      "outputs": []
    },
    {
      "cell_type": "code",
      "metadata": {
        "id": "E2XaywdSh6Cj",
        "outputId": "41bf610d-2283-4487-8cf4-46328f71fbcc",
        "colab": {
          "base_uri": "https://localhost:8080/",
          "height": 204
        }
      },
      "source": [
        "#Training\n",
        "batch_size=64\n",
        "epochs=5\n",
        "model.fit(x_train,y_train,batch_size=batch_size,epochs=epochs,shuffle=True,verbose=2) #verbose=2 means normal logging"
      ],
      "execution_count": null,
      "outputs": [
        {
          "output_type": "stream",
          "text": [
            "Epoch 1/5\n",
            "938/938 - 2s - loss: 1.4597 - accuracy: 0.6583\n",
            "Epoch 2/5\n",
            "938/938 - 2s - loss: 0.6199 - accuracy: 0.8465\n",
            "Epoch 3/5\n",
            "938/938 - 2s - loss: 0.4513 - accuracy: 0.8816\n",
            "Epoch 4/5\n",
            "938/938 - 2s - loss: 0.3860 - accuracy: 0.8940\n",
            "Epoch 5/5\n",
            "938/938 - 2s - loss: 0.3515 - accuracy: 0.9021\n"
          ],
          "name": "stdout"
        },
        {
          "output_type": "execute_result",
          "data": {
            "text/plain": [
              "<tensorflow.python.keras.callbacks.History at 0x7f1a00173c88>"
            ]
          },
          "metadata": {
            "tags": []
          },
          "execution_count": 10
        }
      ]
    },
    {
      "cell_type": "code",
      "metadata": {
        "id": "MrloqtH5jiqW",
        "outputId": "e2ecad8e-a27e-41e1-e7fd-c25cf34e47d3",
        "colab": {
          "base_uri": "https://localhost:8080/",
          "height": 51
        }
      },
      "source": [
        "#Evaluate \n",
        "model.evaluate(x_test,y_test,batch_size=batch_size,verbose=2)"
      ],
      "execution_count": null,
      "outputs": [
        {
          "output_type": "stream",
          "text": [
            "157/157 - 0s - loss: 0.0761 - accuracy: 0.9764\n"
          ],
          "name": "stdout"
        },
        {
          "output_type": "execute_result",
          "data": {
            "text/plain": [
              "[0.07610578089952469, 0.9764000177383423]"
            ]
          },
          "metadata": {
            "tags": []
          },
          "execution_count": 12
        }
      ]
    },
    {
      "cell_type": "code",
      "metadata": {
        "id": "z_L2nEEDkDmv",
        "outputId": "75168fc1-09b7-4b3b-8a0a-2ddf0ab235e4",
        "colab": {
          "base_uri": "https://localhost:8080/",
          "height": 85
        }
      },
      "source": [
        "#Predictions \n",
        "#we need softmax layer so creating new model\n",
        "probability_model=keras.models.Sequential([\n",
        "                                           model,\n",
        "                                           keras.layers.Softmax()\n",
        "])\n",
        "predictions=probability_model(x_test)\n",
        "pred0=predictions[0]\n",
        "print(pred0)\n",
        "label0=np.argmax(pred0)\n",
        "print(label0)"
      ],
      "execution_count": null,
      "outputs": [
        {
          "output_type": "stream",
          "text": [
            "tf.Tensor(\n",
            "[8.6561286e-08 4.9716662e-09 1.0817402e-04 5.1026960e-04 1.0368880e-08\n",
            " 6.5451428e-07 5.2052997e-11 9.9937820e-01 9.5350856e-07 1.5281030e-06], shape=(10,), dtype=float32)\n",
            "7\n"
          ],
          "name": "stdout"
        }
      ]
    },
    {
      "cell_type": "code",
      "metadata": {
        "id": "kxICmHrGlpQd",
        "outputId": "86895428-4623-4ee2-e675-0ceaddd993c0",
        "colab": {
          "base_uri": "https://localhost:8080/",
          "height": 85
        }
      },
      "source": [
        "#model+softmax\n",
        "predictions=model(x_test)\n",
        "predictions=tf.nn.softmax(predictions)\n",
        "pred0=predictions[0]\n",
        "print(pred0)\n",
        "label0=np.argmax(pred0)\n",
        "print(label0)\n"
      ],
      "execution_count": null,
      "outputs": [
        {
          "output_type": "stream",
          "text": [
            "tf.Tensor(\n",
            "[8.6561286e-08 4.9716662e-09 1.0817402e-04 5.1026960e-04 1.0368880e-08\n",
            " 6.5451428e-07 5.2052997e-11 9.9937820e-01 9.5350856e-07 1.5281030e-06], shape=(10,), dtype=float32)\n",
            "7\n"
          ],
          "name": "stdout"
        }
      ]
    },
    {
      "cell_type": "code",
      "metadata": {
        "id": "rdnjJmjWlpOU",
        "outputId": "7a0aa0fb-f1ff-4f74-91ba-c1a8a96c4fbb",
        "colab": {
          "base_uri": "https://localhost:8080/",
          "height": 51
        }
      },
      "source": [
        "p5=predictions[0:5]\n",
        "print(p5.shape)\n",
        "l5=np.argmax(p5,axis=1)\n",
        "print(l5)"
      ],
      "execution_count": null,
      "outputs": [
        {
          "output_type": "stream",
          "text": [
            "(5, 10)\n",
            "[7 2 1 0 4]\n"
          ],
          "name": "stdout"
        }
      ]
    },
    {
      "cell_type": "markdown",
      "metadata": {
        "id": "fuAHyFQaUhl0"
      },
      "source": [
        "**Saving models**\n",
        "```\n",
        "1.save whole model\n",
        "2.save only weights\n",
        "3.save only architecture\n",
        "```"
      ]
    },
    {
      "cell_type": "code",
      "metadata": {
        "id": "NYRDiLo_Urqa",
        "outputId": "d851cda9-5310-4dee-ee69-6c90d8f5e2e0",
        "colab": {
          "base_uri": "https://localhost:8080/",
          "height": 156
        }
      },
      "source": [
        "#Save whole model\n",
        "#2 formats\n",
        "#modelformat or HDF5\n",
        "model.save(\"nn.h5\")\n",
        "model.save(\"neural_net\")"
      ],
      "execution_count": null,
      "outputs": [
        {
          "output_type": "stream",
          "text": [
            "WARNING:tensorflow:From /usr/local/lib/python3.6/dist-packages/tensorflow/python/training/tracking/tracking.py:111: Model.state_updates (from tensorflow.python.keras.engine.training) is deprecated and will be removed in a future version.\n",
            "Instructions for updating:\n",
            "This property should not be used in TensorFlow 2.0, as updates are applied automatically.\n",
            "WARNING:tensorflow:From /usr/local/lib/python3.6/dist-packages/tensorflow/python/training/tracking/tracking.py:111: Layer.updates (from tensorflow.python.keras.engine.base_layer) is deprecated and will be removed in a future version.\n",
            "Instructions for updating:\n",
            "This property should not be used in TensorFlow 2.0, as updates are applied automatically.\n",
            "INFO:tensorflow:Assets written to: neural_net/assets\n"
          ],
          "name": "stdout"
        }
      ]
    },
    {
      "cell_type": "code",
      "metadata": {
        "id": "jQVRoy4_Wjsm",
        "outputId": "189eeed2-e445-4da9-f27e-871c712b0768",
        "colab": {
          "base_uri": "https://localhost:8080/",
          "height": 272
        }
      },
      "source": [
        "new_model=keras.models.load_model('nn.h5')\n",
        "print(new_model.summary())"
      ],
      "execution_count": null,
      "outputs": [
        {
          "output_type": "stream",
          "text": [
            "Model: \"sequential_1\"\n",
            "_________________________________________________________________\n",
            "Layer (type)                 Output Shape              Param #   \n",
            "=================================================================\n",
            "flatten_1 (Flatten)          (None, 784)               0         \n",
            "_________________________________________________________________\n",
            "dense_2 (Dense)              (None, 128)               100480    \n",
            "_________________________________________________________________\n",
            "dense_3 (Dense)              (None, 10)                1290      \n",
            "=================================================================\n",
            "Total params: 101,770\n",
            "Trainable params: 101,770\n",
            "Non-trainable params: 0\n",
            "_________________________________________________________________\n",
            "None\n"
          ],
          "name": "stdout"
        }
      ]
    },
    {
      "cell_type": "code",
      "metadata": {
        "id": "ZsqwnEGOXpOb"
      },
      "source": [
        ""
      ],
      "execution_count": null,
      "outputs": []
    }
  ]
}